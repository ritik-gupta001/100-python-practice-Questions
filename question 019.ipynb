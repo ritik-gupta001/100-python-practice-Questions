{
 "cells": [
  {
   "cell_type": "code",
   "execution_count": 15,
   "id": "276bb72b-a16a-4292-b8f6-7b73c7b058ce",
   "metadata": {},
   "outputs": [],
   "source": [
    "# Write a program that will take user input of (4 digits number) and check whether the number is narcissist number or not"
   ]
  },
  {
   "cell_type": "code",
   "execution_count": 1,
   "id": "32f39486-c9f8-408d-a3d6-17c495fb5da2",
   "metadata": {},
   "outputs": [
    {
     "name": "stdin",
     "output_type": "stream",
     "text": [
      "Enter a 4-digit number:  9474\n"
     ]
    },
    {
     "name": "stdout",
     "output_type": "stream",
     "text": [
      "9474 is a Narcissist number.\n"
     ]
    }
   ],
   "source": [
    "def is_narcissist(num):\n",
    "    # Convert number to string\n",
    "    num_str = str(num)\n",
    "\n",
    "    # Check if it's a 4-digit number\n",
    "    if len(num_str) != 4:\n",
    "        return False\n",
    "\n",
    "    # Calculate sum of digits raised to the 4th power\n",
    "    total = sum(int(digit) ** 4 for digit in num_str)\n",
    "    return total == num\n",
    "\n",
    "# Take input from user\n",
    "num = int(input(\"Enter a 4-digit number: \"))\n",
    "\n",
    "if is_narcissist(num):\n",
    "    print(f\"{num} is a Narcissist number.\")\n",
    "else:\n",
    "    print(f\"{num} is NOT a Narcissist number.\")"
   ]
  },
  {
   "cell_type": "code",
   "execution_count": null,
   "id": "2112dcf4-16f8-49a1-84bd-6da961e6f8db",
   "metadata": {},
   "outputs": [],
   "source": []
  }
 ],
 "metadata": {
  "kernelspec": {
   "display_name": "Python 3 (ipykernel)",
   "language": "python",
   "name": "python3"
  },
  "language_info": {
   "codemirror_mode": {
    "name": "ipython",
    "version": 3
   },
   "file_extension": ".py",
   "mimetype": "text/x-python",
   "name": "python",
   "nbconvert_exporter": "python",
   "pygments_lexer": "ipython3",
   "version": "3.11.7"
  }
 },
 "nbformat": 4,
 "nbformat_minor": 5
}

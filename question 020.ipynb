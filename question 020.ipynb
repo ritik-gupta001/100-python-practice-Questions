{
 "cells": [
  {
   "cell_type": "code",
   "execution_count": 1,
   "id": "f19df51c-93e6-48d6-b264-7e8c2506cfc6",
   "metadata": {},
   "outputs": [],
   "source": [
    "# Write a program that will give you the in hand salary after deduction of HRA(10%),DA(5%),PF(3%),\n",
    "# and tax(if salary is between 5-10 lakh–10%),(11-20lakh–20%),(20< _   – 30%)(0-1lakh print k).\n",
    "\n",
    "\n"
   ]
  },
  {
   "cell_type": "code",
   "execution_count": 7,
   "id": "fa1ffc86-a6df-44e4-986d-43fa9212741d",
   "metadata": {},
   "outputs": [
    {
     "name": "stdin",
     "output_type": "stream",
     "text": [
      "Enter your annual salary in INR:  600000\n"
     ]
    },
    {
     "name": "stdout",
     "output_type": "stream",
     "text": [
      "\n",
      "HRA Deduction: ₹60,000.00\n",
      "DA Deduction: ₹30,000.00\n",
      "PF Deduction: ₹18,000.00\n",
      "Tax Deduction: ₹49,200.00\n",
      "In-hand Salary: ₹442,800.00\n"
     ]
    }
   ],
   "source": [
    "# Program to calculate in-hand salary after deductions\n",
    "\n",
    "salary = float(input(\"Enter your annual salary in INR: \"))\n",
    "\n",
    "# Initial deductions\n",
    "hra = salary * 0.10\n",
    "da = salary * 0.05\n",
    "pf = salary * 0.03\n",
    "\n",
    "# Salary after initial deductions\n",
    "salary_after_deductions = salary - (hra + da + pf)\n",
    "\n",
    "# Tax calculation\n",
    "tax = 0\n",
    "if salary <= 100000:\n",
    "    print(\"k\")\n",
    "    tax = 0\n",
    "elif 500000 <= salary <= 1000000:\n",
    "    tax = salary_after_deductions * 0.10\n",
    "elif 1100000 <= salary <= 2000000:\n",
    "    tax = salary_after_deductions * 0.20\n",
    "elif salary > 2000000:\n",
    "    tax = salary_after_deductions * 0.30\n",
    "\n",
    "# Final in-hand salary\n",
    "in_hand_salary = salary_after_deductions - tax\n",
    "\n",
    "print(f\"\\nHRA Deduction: ₹{hra:,.2f}\")\n",
    "print(f\"DA Deduction: ₹{da:,.2f}\")\n",
    "print(f\"PF Deduction: ₹{pf:,.2f}\")\n",
    "print(f\"Tax Deduction: ₹{tax:,.2f}\")\n",
    "print(f\"In-hand Salary: ₹{in_hand_salary:,.2f}\")\n"
   ]
  },
  {
   "cell_type": "code",
   "execution_count": null,
   "id": "df705401-f9aa-4383-ad3f-c9330306209d",
   "metadata": {},
   "outputs": [],
   "source": []
  }
 ],
 "metadata": {
  "kernelspec": {
   "display_name": "Python 3 (ipykernel)",
   "language": "python",
   "name": "python3"
  },
  "language_info": {
   "codemirror_mode": {
    "name": "ipython",
    "version": 3
   },
   "file_extension": ".py",
   "mimetype": "text/x-python",
   "name": "python",
   "nbconvert_exporter": "python",
   "pygments_lexer": "ipython3",
   "version": "3.11.7"
  }
 },
 "nbformat": 4,
 "nbformat_minor": 5
}

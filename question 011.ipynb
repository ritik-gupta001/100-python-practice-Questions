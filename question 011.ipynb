{
 "cells": [
  {
   "cell_type": "code",
   "execution_count": 1,
   "id": "bc21cba1-cefa-4667-a537-4626d4d8d1eb",
   "metadata": {},
   "outputs": [],
   "source": [
    "#Write a program to find the simple interest when the value of principle,rate of interest and time period is given."
   ]
  },
  {
   "cell_type": "code",
   "execution_count": 5,
   "id": "74b942ab-1558-482f-9bab-a9d37f536f95",
   "metadata": {},
   "outputs": [
    {
     "name": "stdin",
     "output_type": "stream",
     "text": [
      "enter the principle amount: 5000\n",
      "enter the rate of interest on amount: 10\n",
      "enter the time in months: 12\n"
     ]
    },
    {
     "name": "stdout",
     "output_type": "stream",
     "text": [
      "the simple interest is: 500.0\n"
     ]
    }
   ],
   "source": [
    "principle=int(input(\"enter the principle amount:\"))\n",
    "Roi=int(input(\"enter the rate of interest on amount:\"))\n",
    "time_months=int(input(\"enter the time in months:\"))\n",
    "time_years=time_months/12\n",
    "simpleinterest=(principle*Roi*time_years)/100\n",
    "print(\"the simple interest is:\",simpleinterest)"
   ]
  },
  {
   "cell_type": "code",
   "execution_count": null,
   "id": "9585e953-fab6-4a04-929b-3886235d2ac5",
   "metadata": {},
   "outputs": [],
   "source": []
  }
 ],
 "metadata": {
  "kernelspec": {
   "display_name": "Python 3 (ipykernel)",
   "language": "python",
   "name": "python3"
  },
  "language_info": {
   "codemirror_mode": {
    "name": "ipython",
    "version": 3
   },
   "file_extension": ".py",
   "mimetype": "text/x-python",
   "name": "python",
   "nbconvert_exporter": "python",
   "pygments_lexer": "ipython3",
   "version": "3.11.7"
  }
 },
 "nbformat": 4,
 "nbformat_minor": 5
}

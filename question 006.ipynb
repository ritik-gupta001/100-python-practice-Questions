{
 "cells": [
  {
   "cell_type": "code",
   "execution_count": 1,
   "id": "b99441ee-41ad-4d39-998c-08f75085e30c",
   "metadata": {},
   "outputs": [],
   "source": [
    "# Write a program that will tell whether the number entered by the user is odd or even."
   ]
  },
  {
   "cell_type": "code",
   "execution_count": 3,
   "id": "49f993c1-e7ea-4557-987a-bb82cf497b1c",
   "metadata": {},
   "outputs": [
    {
     "name": "stdin",
     "output_type": "stream",
     "text": [
      "enter the number:  56\n"
     ]
    },
    {
     "name": "stdout",
     "output_type": "stream",
     "text": [
      "the number is even no.\n"
     ]
    }
   ],
   "source": [
    "num=int(input(\"enter the number: \"))\n",
    "\n",
    "if num%2==0:\n",
    "    print(\"the number is even no.\")\n",
    "else:\n",
    "    print(\"the number is odd no.\")\n"
   ]
  },
  {
   "cell_type": "code",
   "execution_count": null,
   "id": "2804cd39-f304-4ff8-8713-bd8153bee3d9",
   "metadata": {},
   "outputs": [],
   "source": []
  }
 ],
 "metadata": {
  "kernelspec": {
   "display_name": "Python 3 (ipykernel)",
   "language": "python",
   "name": "python3"
  },
  "language_info": {
   "codemirror_mode": {
    "name": "ipython",
    "version": 3
   },
   "file_extension": ".py",
   "mimetype": "text/x-python",
   "name": "python",
   "nbconvert_exporter": "python",
   "pygments_lexer": "ipython3",
   "version": "3.11.7"
  }
 },
 "nbformat": 4,
 "nbformat_minor": 5
}

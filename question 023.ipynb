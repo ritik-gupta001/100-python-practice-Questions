{
 "cells": [
  {
   "cell_type": "code",
   "execution_count": 1,
   "id": "312bbe5d-e6d3-4f8a-8734-1a5290c4059b",
   "metadata": {},
   "outputs": [],
   "source": [
    "# Write a program that will tell the number of dogs and  are there when the user will provide the value of total heads and legs."
   ]
  },
  {
   "cell_type": "code",
   "execution_count": 2,
   "id": "3e2b19f3-4b0f-4a7c-a280-5965890db40c",
   "metadata": {},
   "outputs": [],
   "source": [
    "# dogs have four legs and one head\n",
    "# chicken has two legs and one heads"
   ]
  },
  {
   "cell_type": "code",
   "execution_count": 9,
   "id": "b5e1e5e4-b5bc-41c4-92c5-bd15d13b6b2f",
   "metadata": {},
   "outputs": [
    {
     "name": "stdin",
     "output_type": "stream",
     "text": [
      "enter the no of heads: 5\n",
      "enter the no of legs: 14\n"
     ]
    },
    {
     "name": "stdout",
     "output_type": "stream",
     "text": [
      "Dogs:2,Chickens:3\n"
     ]
    }
   ],
   "source": [
    "def count_animals(heads,legs):\n",
    "    for dogs in range(heads+1):\n",
    "        chickens=heads-dogs\n",
    "        if 2*chickens+4*dogs==legs:\n",
    "            return dogs,chickens\n",
    "    return None,None\n",
    "heads=int(input(\"enter the no of heads:\"))\n",
    "legs=int(input(\"enter the no of legs:\"))\n",
    "dogs,chickens = count_animals(heads,legs)\n",
    "if dogs is None:\n",
    "    print(\"No valid solution\")\n",
    "else:\n",
    "    print(f\"Dogs:{dogs},Chickens:{chickens}\")"
   ]
  },
  {
   "cell_type": "code",
   "execution_count": null,
   "id": "9cb5f813-2760-4eb6-9ee9-ab8af5d3f9d7",
   "metadata": {},
   "outputs": [],
   "source": []
  }
 ],
 "metadata": {
  "kernelspec": {
   "display_name": "Python 3 (ipykernel)",
   "language": "python",
   "name": "python3"
  },
  "language_info": {
   "codemirror_mode": {
    "name": "ipython",
    "version": 3
   },
   "file_extension": ".py",
   "mimetype": "text/x-python",
   "name": "python",
   "nbconvert_exporter": "python",
   "pygments_lexer": "ipython3",
   "version": "3.11.7"
  }
 },
 "nbformat": 4,
 "nbformat_minor": 5
}

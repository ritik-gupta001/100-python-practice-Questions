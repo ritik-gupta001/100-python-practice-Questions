{
 "cells": [
  {
   "cell_type": "code",
   "execution_count": 1,
   "id": "a93c3cb0-8ee8-4848-883d-6d6f9d0260b0",
   "metadata": {},
   "outputs": [],
   "source": [
    "# Write  a program that will tell whether the given number is divisible by 3 & 6."
   ]
  },
  {
   "cell_type": "code",
   "execution_count": 8,
   "id": "2f88d6cc-e90d-4db0-84f3-c3c6d2529242",
   "metadata": {},
   "outputs": [
    {
     "name": "stdin",
     "output_type": "stream",
     "text": [
      "enter your number : 5\n"
     ]
    },
    {
     "name": "stdout",
     "output_type": "stream",
     "text": [
      "no is neither divisible by 3 nor 6:\n"
     ]
    }
   ],
   "source": [
    "num=int(input(\"enter your number :\"))\n",
    "if num % 6==0:\n",
    "    print(\"the number is divisible by both 3 and 6:\")\n",
    "elif num % 3==0:\n",
    "    print(\"the number is divisible by 3 only but not 6:\")\n",
    "else:\n",
    "    print(\"no is neither divisible by 3 nor 6:\")"
   ]
  },
  {
   "cell_type": "code",
   "execution_count": null,
   "id": "d8b90f67-a515-4e3e-9df7-e25838677863",
   "metadata": {},
   "outputs": [],
   "source": []
  }
 ],
 "metadata": {
  "kernelspec": {
   "display_name": "Python 3 (ipykernel)",
   "language": "python",
   "name": "python3"
  },
  "language_info": {
   "codemirror_mode": {
    "name": "ipython",
    "version": 3
   },
   "file_extension": ".py",
   "mimetype": "text/x-python",
   "name": "python",
   "nbconvert_exporter": "python",
   "pygments_lexer": "ipython3",
   "version": "3.11.7"
  }
 },
 "nbformat": 4,
 "nbformat_minor": 5
}

{
 "cells": [
  {
   "cell_type": "code",
   "execution_count": 1,
   "id": "82c3fa00-2631-4342-bfb8-030132f70f70",
   "metadata": {},
   "outputs": [],
   "source": [
    "# Write a program that will swap numbers"
   ]
  },
  {
   "cell_type": "code",
   "execution_count": 9,
   "id": "e9e1cb5a-0b32-4c8a-a9a6-063dc1722726",
   "metadata": {},
   "outputs": [
    {
     "name": "stdin",
     "output_type": "stream",
     "text": [
      "enter first no 56\n",
      "enter second no 89\n"
     ]
    },
    {
     "name": "stdout",
     "output_type": "stream",
     "text": [
      "89\n",
      "56\n"
     ]
    }
   ],
   "source": [
    "a=int(input(\"enter first no\"))\n",
    "b=int(input(\"enter second no\"))\n",
    "a,b=b,a\n",
    "print(a)\n",
    "print(b)"
   ]
  },
  {
   "cell_type": "code",
   "execution_count": 8,
   "id": "3e2f53ee-a2cc-4976-814c-599cb805013e",
   "metadata": {},
   "outputs": [],
   "source": [
    "# temp=a\n",
    "# a=b\n",
    "# b=temp"
   ]
  },
  {
   "cell_type": "code",
   "execution_count": null,
   "id": "f466243d-ed1a-405e-a368-6981dc0ce99c",
   "metadata": {},
   "outputs": [],
   "source": []
  }
 ],
 "metadata": {
  "kernelspec": {
   "display_name": "Python 3 (ipykernel)",
   "language": "python",
   "name": "python3"
  },
  "language_info": {
   "codemirror_mode": {
    "name": "ipython",
    "version": 3
   },
   "file_extension": ".py",
   "mimetype": "text/x-python",
   "name": "python",
   "nbconvert_exporter": "python",
   "pygments_lexer": "ipython3",
   "version": "3.11.7"
  }
 },
 "nbformat": 4,
 "nbformat_minor": 5
}

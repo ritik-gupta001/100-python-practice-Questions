{
 "cells": [
  {
   "cell_type": "code",
   "execution_count": 1,
   "id": "1d9da4e9-76da-4c7f-9e4d-47a159091f15",
   "metadata": {},
   "outputs": [],
   "source": [
    "# Write a program to print the first 25 odd numbers"
   ]
  },
  {
   "cell_type": "code",
   "execution_count": 8,
   "id": "ad646174-3164-4efe-8e0f-e7c6e2689789",
   "metadata": {},
   "outputs": [
    {
     "name": "stdout",
     "output_type": "stream",
     "text": [
      "The first 25 odd numbers are:\n",
      "1 3 5 7 9 11 13 15 17 19 21 23 25 27 29 31 33 35 37 39 41 43 45 47 49 "
     ]
    }
   ],
   "source": [
    "def odd_numbers():\n",
    "    count = 0\n",
    "    for i in range(1, 100):  \n",
    "        if i % 2 != 0:  \n",
    "            print(i, end=\" \")\n",
    "            count += 1\n",
    "            if count == 25:  #Stop after 25 odd numbers\n",
    "                break\n",
    "\n",
    "print(\"The first 25 odd numbers are:\")\n",
    "odd_numbers()\n"
   ]
  },
  {
   "cell_type": "code",
   "execution_count": null,
   "id": "84cd6cf7-2cc3-421d-a850-4c32af1daa26",
   "metadata": {},
   "outputs": [],
   "source": []
  }
 ],
 "metadata": {
  "kernelspec": {
   "display_name": "Python 3 (ipykernel)",
   "language": "python",
   "name": "python3"
  },
  "language_info": {
   "codemirror_mode": {
    "name": "ipython",
    "version": 3
   },
   "file_extension": ".py",
   "mimetype": "text/x-python",
   "name": "python",
   "nbconvert_exporter": "python",
   "pygments_lexer": "ipython3",
   "version": "3.11.7"
  }
 },
 "nbformat": 4,
 "nbformat_minor": 5
}

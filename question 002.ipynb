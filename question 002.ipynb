{
 "cells": [
  {
   "cell_type": "code",
   "execution_count": 1,
   "id": "3f28bebf-25bc-4a24-a9af-53ee8634b01d",
   "metadata": {},
   "outputs": [],
   "source": [
    "# Write a program that will convert celsius value to fahrenheit\n"
   ]
  },
  {
   "cell_type": "code",
   "execution_count": 2,
   "id": "4e4cc8ab-e730-4963-98e2-8bc8bd97dc27",
   "metadata": {},
   "outputs": [
    {
     "name": "stdin",
     "output_type": "stream",
     "text": [
      "Enter the temperature into degree celcius 56\n"
     ]
    },
    {
     "name": "stdout",
     "output_type": "stream",
     "text": [
      "Temperature in fahrenheit is 132.8\n"
     ]
    }
   ],
   "source": [
    "degree_celcius= int(input(\"Enter the temperature into degree celcius\"))\n",
    "degree_fahr=(degree_celcius*9/5)+32\n",
    "print(\"Temperature in fahrenheit is\",degree_fahr)"
   ]
  },
  {
   "cell_type": "code",
   "execution_count": null,
   "id": "3b6e33c0-beae-4484-a9c3-147551111582",
   "metadata": {},
   "outputs": [],
   "source": []
  }
 ],
 "metadata": {
  "kernelspec": {
   "display_name": "Python 3 (ipykernel)",
   "language": "python",
   "name": "python3"
  },
  "language_info": {
   "codemirror_mode": {
    "name": "ipython",
    "version": 3
   },
   "file_extension": ".py",
   "mimetype": "text/x-python",
   "name": "python",
   "nbconvert_exporter": "python",
   "pygments_lexer": "ipython3",
   "version": "3.11.7"
  }
 },
 "nbformat": 4,
 "nbformat_minor": 5
}

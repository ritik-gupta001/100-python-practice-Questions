{
 "cells": [
  {
   "cell_type": "code",
   "execution_count": 1,
   "id": "eea156e7-44d7-4fa9-821d-6c7b3eb1f7be",
   "metadata": {},
   "outputs": [],
   "source": [
    "# Write a program that will tell whether the given year is a leap year or not."
   ]
  },
  {
   "cell_type": "code",
   "execution_count": 5,
   "id": "28416389-f628-45af-bbb3-09b79e2daec1",
   "metadata": {},
   "outputs": [
    {
     "name": "stdin",
     "output_type": "stream",
     "text": [
      "Enter your desired year 2000\n"
     ]
    },
    {
     "name": "stdout",
     "output_type": "stream",
     "text": [
      "year is leap year.\n"
     ]
    }
   ],
   "source": [
    "year=int(input(\"Enter your desired year\"))\n",
    "if (year%4==0 and year%100!=0 )or (year%400==0):\n",
    "    print(\"year is leap year.\")\n",
    "else:\n",
    "    print(\"year is not a leap year.\")"
   ]
  },
  {
   "cell_type": "code",
   "execution_count": null,
   "id": "597ae11c-54f2-4c42-98f2-e0b6fc133665",
   "metadata": {},
   "outputs": [],
   "source": []
  },
  {
   "cell_type": "code",
   "execution_count": null,
   "id": "e25dc7ee-24a3-4796-9c7c-d63f46d307b9",
   "metadata": {},
   "outputs": [],
   "source": []
  }
 ],
 "metadata": {
  "kernelspec": {
   "display_name": "Python 3 (ipykernel)",
   "language": "python",
   "name": "python3"
  },
  "language_info": {
   "codemirror_mode": {
    "name": "ipython",
    "version": 3
   },
   "file_extension": ".py",
   "mimetype": "text/x-python",
   "name": "python",
   "nbconvert_exporter": "python",
   "pygments_lexer": "ipython3",
   "version": "3.11.7"
  }
 },
 "nbformat": 4,
 "nbformat_minor": 5
}

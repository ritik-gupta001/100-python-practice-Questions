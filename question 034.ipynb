{
 "cells": [
  {
   "cell_type": "code",
   "execution_count": 1,
   "id": "4b9329e8-4e90-495a-98b7-4d0a05cd2a43",
   "metadata": {},
   "outputs": [],
   "source": [
    "# Print first 25 prime numbers"
   ]
  },
  {
   "cell_type": "code",
   "execution_count": 9,
   "id": "a61a4a0a-f6b9-423a-a46f-de2b468378c1",
   "metadata": {},
   "outputs": [
    {
     "name": "stdout",
     "output_type": "stream",
     "text": [
      "First 25 prime numbers are:\n",
      "2 3 5 7 11 13 17 19 23 29 31 37 41 43 47 53 59 61 67 71 73 79 83 89 97 "
     ]
    }
   ],
   "source": [
    "def is_prime(num):\n",
    "    if num < 2:\n",
    "        return False\n",
    "    for i in range(2, int(num**0.5) + 1):\n",
    "        if num % i == 0:\n",
    "            return False\n",
    "    return True\n",
    "\n",
    "count = 0\n",
    "num = 2    #Start checking from 2, the first prime number\n",
    "\n",
    "print(\"First 25 prime numbers are:\")\n",
    "while count < 25:\n",
    "    if is_prime(num):\n",
    "        print(num, end=\" \")\n",
    "        count += 1\n",
    "    num += 1\n",
    "    \n"
   ]
  },
  {
   "cell_type": "code",
   "execution_count": null,
   "id": "af28c717-fd60-4d17-b2d7-926bc98afd75",
   "metadata": {},
   "outputs": [],
   "source": []
  }
 ],
 "metadata": {
  "kernelspec": {
   "display_name": "Python 3 (ipykernel)",
   "language": "python",
   "name": "python3"
  },
  "language_info": {
   "codemirror_mode": {
    "name": "ipython",
    "version": 3
   },
   "file_extension": ".py",
   "mimetype": "text/x-python",
   "name": "python",
   "nbconvert_exporter": "python",
   "pygments_lexer": "ipython3",
   "version": "3.11.7"
  }
 },
 "nbformat": 4,
 "nbformat_minor": 5
}

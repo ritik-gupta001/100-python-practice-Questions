{
 "cells": [
  {
   "cell_type": "code",
   "execution_count": 1,
   "id": "c0bdc45d-b8f0-47a5-a6ef-be809703d187",
   "metadata": {},
   "outputs": [],
   "source": [
    "# Write a program that will check whether the number is armstrong number or not."
   ]
  },
  {
   "cell_type": "code",
   "execution_count": 8,
   "id": "6fc38078-2140-467e-8955-235f82a73112",
   "metadata": {},
   "outputs": [
    {
     "name": "stdin",
     "output_type": "stream",
     "text": [
      "Enter a number:  153\n"
     ]
    },
    {
     "name": "stdout",
     "output_type": "stream",
     "text": [
      "153 is an Armstrong number.\n"
     ]
    }
   ],
   "source": [
    "def is_armstrong(num):\n",
    "    # Convert number to string to count digits easily\n",
    "    num_str = str(num)\n",
    "    power = len(num_str)  # number of digits\n",
    "    # Calculate sum of digits raised to the power\n",
    "    total = sum(int(digit) ** power for digit in num_str)\n",
    "    \n",
    "    return total == num\n",
    "\n",
    "# Example usage\n",
    "num = int(input(\"Enter a number: \"))\n",
    "if is_armstrong(num):\n",
    "    print(f\"{num} is an Armstrong number.\")\n",
    "else:\n",
    "    print(f\"{num} is NOT an Armstrong number.\")\n",
    "\n"
   ]
  },
  {
   "cell_type": "code",
   "execution_count": null,
   "id": "7a2fae17-540e-41da-a4ee-32eeaafd0114",
   "metadata": {},
   "outputs": [],
   "source": []
  }
 ],
 "metadata": {
  "kernelspec": {
   "display_name": "Python 3 (ipykernel)",
   "language": "python",
   "name": "python3"
  },
  "language_info": {
   "codemirror_mode": {
    "name": "ipython",
    "version": 3
   },
   "file_extension": ".py",
   "mimetype": "text/x-python",
   "name": "python",
   "nbconvert_exporter": "python",
   "pygments_lexer": "ipython3",
   "version": "3.11.7"
  }
 },
 "nbformat": 4,
 "nbformat_minor": 5
}

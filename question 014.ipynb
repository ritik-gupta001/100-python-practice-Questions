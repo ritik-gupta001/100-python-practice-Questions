{
 "cells": [
  {
   "cell_type": "code",
   "execution_count": 1,
   "id": "42c7ee98-932d-4213-b016-54da4f879022",
   "metadata": {},
   "outputs": [],
   "source": [
    "# Write a program that will determine weather when the value of temperature and humidity is provided by the user.\n",
    "#TEMPERATURE(C)      HUMIDITY(%)      WEATHER\n",
    "\n",
    "#>= 30              >=90               Hot and Humid\n",
    "#>= 30              < 90               Hot\n",
    "#<30                >= 90               Cool and Humid\n",
    "#<30                <90                 Cool\n"
   ]
  },
  {
   "cell_type": "code",
   "execution_count": null,
   "id": "90a953af-6c25-4917-b381-4accbceee7f9",
   "metadata": {},
   "outputs": [],
   "source": [
    "temperature=int(input(\"enter the temperature in celcius:\"))\n",
    "humidity=int(input(\"enter the humidity (in %) :\"))\n",
    "if temperature >= 30 and humidity  >=90 :\n",
    "    print(\" Hot and Humid\")\n",
    "elif temperature >= 30 and humidity  < 90 :\n",
    "    print(\"Hot\")\n",
    "elif temperature < 30 and humidity  >= 90 :\n",
    "    print(\"Cool and Humid\")\n",
    "elif temperature < 30 and humidity  < 90 :\n",
    "    print(\"Cool\")\n",
    "else:\n",
    "    print(\"error\")"
   ]
  },
  {
   "cell_type": "code",
   "execution_count": null,
   "id": "5cbdf04c-8bfd-4c10-880c-92e555eeade4",
   "metadata": {},
   "outputs": [],
   "source": []
  }
 ],
 "metadata": {
  "kernelspec": {
   "display_name": "Python 3 (ipykernel)",
   "language": "python",
   "name": "python3"
  },
  "language_info": {
   "codemirror_mode": {
    "name": "ipython",
    "version": 3
   },
   "file_extension": ".py",
   "mimetype": "text/x-python",
   "name": "python",
   "nbconvert_exporter": "python",
   "pygments_lexer": "ipython3",
   "version": "3.11.7"
  }
 },
 "nbformat": 4,
 "nbformat_minor": 5
}

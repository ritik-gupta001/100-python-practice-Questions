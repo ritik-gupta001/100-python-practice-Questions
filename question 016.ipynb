{
 "cells": [
  {
   "cell_type": "code",
   "execution_count": 2,
   "id": "fd6e540a-6380-4ebf-aa7b-7ddc1e6568b0",
   "metadata": {},
   "outputs": [],
   "source": [
    "#Given a string s representing time in 24-hour format \"HH:MM\", compute the smallest angle in degrees between the hour and minute hands of an analog clock\n",
    "\n",
    "#Input: s = \"06:00\"\n",
    "#Output: 180.000\n",
    "#Explanation: When the time is 06:00, the angle between the hour and minute hands of the clock is 180.000 degrees.\n",
    "\n",
    "#Input: s = \"03:15\"\n",
    "#Output: 7.500\n",
    "#Explanation: When the time is 03:15, the angle between the hour and minute hands of the clock is 7.500 degrees.\n",
    "\n",
    "#Constraints:\n",
    "#s.size() = 5\n",
    "#00 ≤  HH  ≤ 23\n",
    "#00 ≤  MM  ≤ 59"
   ]
  },
  {
   "cell_type": "code",
   "execution_count": 7,
   "id": "ffee181b-92ad-4824-b9b8-c4dd80c4ab22",
   "metadata": {},
   "outputs": [
    {
     "name": "stdout",
     "output_type": "stream",
     "text": [
      "180.0\n",
      "7.5\n",
      "165.0\n",
      "0.0\n",
      "67.5\n"
     ]
    }
   ],
   "source": [
    "def clock_angle(s: str) -> float: # s is is string '23:00' and the function will return a floating no\n",
    "    # Extract hours and minutes from the input string\n",
    "    hours, minutes = map(int, s.split(\":\"))  #Splits the time string at \":\" and converts both parts to integers.\n",
    "    # Convert to 12-hour format\n",
    "    hours = hours % 12\n",
    "     # Calculate angles\n",
    "    hour_angle = (hours * 30) + (minutes * 0.5)  # each hour = 30°, each minute adds 0.5°\n",
    "    minute_angle = minutes * 6                  # each minute = 6°\n",
    "\n",
    "    # Find the absolute difference  \n",
    "    angle = abs(hour_angle - minute_angle)\n",
    "    \n",
    "    # The smaller angle (angle or 360 - angle)\n",
    "    return round(min(angle, 360 - angle), 3)  # There are two possible angles (e.g., clockwise and anticlockwise).\n",
    "                                              #Take the smaller one. \n",
    "                                              #Round it to 3 decimal places.\n",
    "print(clock_angle(\"06:00\"))\n",
    "print(clock_angle(\"03:15\"))  \n",
    "print(clock_angle(\"12:30\"))  \n",
    "print(clock_angle(\"00:00\"))\n",
    "print(clock_angle(\"18:45\")) \n",
    "    "
   ]
  },
  {
   "cell_type": "code",
   "execution_count": null,
   "id": "e0c8c805-7c8b-40e5-8d30-314dd0b848dd",
   "metadata": {},
   "outputs": [],
   "source": []
  }
 ],
 "metadata": {
  "kernelspec": {
   "display_name": "Python 3 (ipykernel)",
   "language": "python",
   "name": "python3"
  },
  "language_info": {
   "codemirror_mode": {
    "name": "ipython",
    "version": 3
   },
   "file_extension": ".py",
   "mimetype": "text/x-python",
   "name": "python",
   "nbconvert_exporter": "python",
   "pygments_lexer": "ipython3",
   "version": "3.11.7"
  }
 },
 "nbformat": 4,
 "nbformat_minor": 5
}

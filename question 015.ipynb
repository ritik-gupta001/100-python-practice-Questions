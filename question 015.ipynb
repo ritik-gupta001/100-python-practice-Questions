{
 "cells": [
  {
   "cell_type": "code",
   "execution_count": 1,
   "id": "6d4a3a37-da80-4fba-94fb-921dbbb826c0",
   "metadata": {},
   "outputs": [],
   "source": [
    "# Write a program that will take three digits from the user and add the square of each digit."
   ]
  },
  {
   "cell_type": "code",
   "execution_count": 5,
   "id": "d1b25090-fb88-48c7-97f4-6bf6cf3ffce0",
   "metadata": {},
   "outputs": [
    {
     "name": "stdin",
     "output_type": "stream",
     "text": [
      "enter a 3 digit no  789\n"
     ]
    },
    {
     "name": "stdout",
     "output_type": "stream",
     "text": [
      "the sum of squares of the digits  is 194\n"
     ]
    }
   ],
   "source": [
    "num=int(input(\"enter a 3 digit no \"))\n",
    "# digit extraction\n",
    "a=num//100 # first digit \n",
    "b=(num//10)%10 #second digit\n",
    "c=num%10\n",
    "total=(a**2)+(b**2)+(c**2)\n",
    "print(\"the sum of squares of the digits  is\",total)"
   ]
  },
  {
   "cell_type": "code",
   "execution_count": null,
   "id": "a8bee063-2d90-442f-b4a9-5c7546f63e4f",
   "metadata": {},
   "outputs": [],
   "source": []
  }
 ],
 "metadata": {
  "kernelspec": {
   "display_name": "Python 3 (ipykernel)",
   "language": "python",
   "name": "python3"
  },
  "language_info": {
   "codemirror_mode": {
    "name": "ipython",
    "version": 3
   },
   "file_extension": ".py",
   "mimetype": "text/x-python",
   "name": "python",
   "nbconvert_exporter": "python",
   "pygments_lexer": "ipython3",
   "version": "3.11.7"
  }
 },
 "nbformat": 4,
 "nbformat_minor": 5
}

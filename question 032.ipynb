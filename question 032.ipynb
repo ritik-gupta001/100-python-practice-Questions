{
 "cells": [
  {
   "cell_type": "code",
   "execution_count": 1,
   "id": "74e982ee-1e6c-496b-b02e-e51f8c734d24",
   "metadata": {},
   "outputs": [],
   "source": [
    "#User will provide 2 numbers you have to find the HCF of those 2 numbers"
   ]
  },
  {
   "cell_type": "code",
   "execution_count": 7,
   "id": "f072258f-3b1f-4850-84c4-90aca2f40f8c",
   "metadata": {},
   "outputs": [
    {
     "name": "stdin",
     "output_type": "stream",
     "text": [
      "enter first no: 12\n",
      "enter second no: 18\n"
     ]
    },
    {
     "name": "stdout",
     "output_type": "stream",
     "text": [
      "HCF of 12 and 18 is: 6\n"
     ]
    }
   ],
   "source": [
    "a=int(input(\"enter first no:\"))\n",
    "b=int(input(\"enter second no:\"))\n",
    "def find_hcf(a,b):\n",
    "    while b!=0:\n",
    "        a,b=b,a%b\n",
    "    return a\n",
    "hcf=find_hcf(a,b)\n",
    "\n",
    "\n",
    "print(f\"HCF of {a} and {b} is: {hcf}\")"
   ]
  },
  {
   "cell_type": "code",
   "execution_count": 8,
   "id": "10058ca9-6e52-4829-a3ae-9886fdf8d808",
   "metadata": {},
   "outputs": [],
   "source": [
    "# in built python method"
   ]
  },
  {
   "cell_type": "code",
   "execution_count": 9,
   "id": "43b0b148-9b9f-4fc6-9c5f-c65764eabd45",
   "metadata": {},
   "outputs": [
    {
     "name": "stdin",
     "output_type": "stream",
     "text": [
      "Enter first number:  12\n",
      "Enter second number:  18\n"
     ]
    },
    {
     "name": "stdout",
     "output_type": "stream",
     "text": [
      "HCF of 12 and 18 is: 6\n"
     ]
    }
   ],
   "source": [
    "import math\n",
    "\n",
    "a = int(input(\"Enter first number: \"))\n",
    "b = int(input(\"Enter second number: \"))\n",
    "\n",
    "hcf = math.gcd(a, b)\n",
    "print(f\"HCF of {a} and {b} is: {hcf}\")\n",
    "\n"
   ]
  },
  {
   "cell_type": "code",
   "execution_count": null,
   "id": "fa51680f-7aaa-4539-b95a-7b3576e0c91f",
   "metadata": {},
   "outputs": [],
   "source": []
  }
 ],
 "metadata": {
  "kernelspec": {
   "display_name": "Python 3 (ipykernel)",
   "language": "python",
   "name": "python3"
  },
  "language_info": {
   "codemirror_mode": {
    "name": "ipython",
    "version": 3
   },
   "file_extension": ".py",
   "mimetype": "text/x-python",
   "name": "python",
   "nbconvert_exporter": "python",
   "pygments_lexer": "ipython3",
   "version": "3.11.7"
  }
 },
 "nbformat": 4,
 "nbformat_minor": 5
}

{
 "cells": [
  {
   "cell_type": "code",
   "execution_count": 2,
   "id": "7cb679fc-6deb-44c3-b02b-715ffd494d5d",
   "metadata": {},
   "outputs": [],
   "source": [
    "#Write a program that can find the factorial of a given number provided by the user."
   ]
  },
  {
   "cell_type": "code",
   "execution_count": 9,
   "id": "6a193b64-3704-4d9e-b21c-74d9a9dd7204",
   "metadata": {},
   "outputs": [
    {
     "name": "stdin",
     "output_type": "stream",
     "text": [
      "enter the no : 6\n"
     ]
    },
    {
     "name": "stdout",
     "output_type": "stream",
     "text": [
      "the factorial for the num is : 720\n"
     ]
    }
   ],
   "source": [
    "def factorial(n):\n",
    "    fact=1\n",
    "    for i in range(1,n+1):\n",
    "        fact=fact*i\n",
    "    return fact\n",
    "n=int(input(\"enter the no :\"))       \n",
    "print(\"the factorial for the num is :\",factorial(n))"
   ]
  },
  {
   "cell_type": "code",
   "execution_count": null,
   "id": "9a5ed6fe-6096-46b3-9c32-77d089038854",
   "metadata": {},
   "outputs": [],
   "source": []
  }
 ],
 "metadata": {
  "kernelspec": {
   "display_name": "Python 3 (ipykernel)",
   "language": "python",
   "name": "python3"
  },
  "language_info": {
   "codemirror_mode": {
    "name": "ipython",
    "version": 3
   },
   "file_extension": ".py",
   "mimetype": "text/x-python",
   "name": "python",
   "nbconvert_exporter": "python",
   "pygments_lexer": "ipython3",
   "version": "3.11.7"
  }
 },
 "nbformat": 4,
 "nbformat_minor": 5
}

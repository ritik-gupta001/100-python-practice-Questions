{
 "cells": [
  {
   "cell_type": "code",
   "execution_count": 1,
   "id": "8369c5c1-d484-4eb9-b1c5-36725acd903d",
   "metadata": {},
   "outputs": [],
   "source": [
    "# Write a program to find the sum of first n numbers, where n will be provided by the user. Eg if the user provides n=10 the output should be 55."
   ]
  },
  {
   "cell_type": "code",
   "execution_count": 10,
   "id": "38aa516a-6bbb-4085-8666-6932e8ce2594",
   "metadata": {},
   "outputs": [
    {
     "name": "stdin",
     "output_type": "stream",
     "text": [
      "enter the no : 10\n"
     ]
    },
    {
     "name": "stdout",
     "output_type": "stream",
     "text": [
      "The sum of first 10 natural numbers is: 55\n"
     ]
    }
   ],
   "source": [
    "num= int(input(\"enter the no :\"))\n",
    "sum=0\n",
    "for i in range (1,num+1):\n",
    "    sum=sum+i\n",
    "print(f\"The sum of first {num} natural numbers is: {sum}\")"
   ]
  },
  {
   "cell_type": "code",
   "execution_count": 6,
   "id": "b2af0456-541c-4e07-b6d1-0626d0657f3a",
   "metadata": {},
   "outputs": [],
   "source": [
    "# n*(N-1)/2 alternate solution"
   ]
  },
  {
   "cell_type": "code",
   "execution_count": null,
   "id": "90a18c54-9cd3-42e6-ac4a-596676db3cef",
   "metadata": {},
   "outputs": [],
   "source": []
  }
 ],
 "metadata": {
  "kernelspec": {
   "display_name": "Python 3 (ipykernel)",
   "language": "python",
   "name": "python3"
  },
  "language_info": {
   "codemirror_mode": {
    "name": "ipython",
    "version": 3
   },
   "file_extension": ".py",
   "mimetype": "text/x-python",
   "name": "python",
   "nbconvert_exporter": "python",
   "pygments_lexer": "ipython3",
   "version": "3.11.7"
  }
 },
 "nbformat": 4,
 "nbformat_minor": 5
}

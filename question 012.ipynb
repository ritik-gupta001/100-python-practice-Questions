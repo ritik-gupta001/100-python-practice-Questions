{
 "cells": [
  {
   "cell_type": "code",
   "execution_count": 1,
   "id": "beffc080-410e-4631-a976-7d1901ec3fcb",
   "metadata": {},
   "outputs": [],
   "source": [
    "# Write a program to find the volume of the cylinder. Also find the cost when ,when the cost of 1litre milk is 40Rs."
   ]
  },
  {
   "cell_type": "code",
   "execution_count": 5,
   "id": "58ec8606-4497-4c69-bbe4-fcd6f829c623",
   "metadata": {},
   "outputs": [
    {
     "name": "stdin",
     "output_type": "stream",
     "text": [
      "enter the radius of cylinder(in cm): 7\n",
      "enter the height of cylinder(in cm): 10\n"
     ]
    },
    {
     "name": "stdout",
     "output_type": "stream",
     "text": [
      "the volume of cylinder is : 1.54\n",
      "the total cost of the milk is: 61.6\n"
     ]
    }
   ],
   "source": [
    "radius=int(input(\"enter the radius of cylinder(in cm):\"))\n",
    "height=int(input(\"enter the height of cylinder(in cm):\"))\n",
    "pi=22/7\n",
    "volume_cm=pi*(radius**2)*height\n",
    "volume_lit=volume_cm/1000\n",
    "\n",
    "print(\"the volume of cylinder is :\",volume_lit)\n",
    "# to calculate total cost it will be per liter * volume of milk must hold\n",
    "cost=40*volume_lit\n",
    "print(\"the total cost of the milk is:\",cost)\n"
   ]
  },
  {
   "cell_type": "code",
   "execution_count": null,
   "id": "63e0f263-6aee-455c-99ce-4191eb894933",
   "metadata": {},
   "outputs": [],
   "source": []
  }
 ],
 "metadata": {
  "kernelspec": {
   "display_name": "Python 3 (ipykernel)",
   "language": "python",
   "name": "python3"
  },
  "language_info": {
   "codemirror_mode": {
    "name": "ipython",
    "version": 3
   },
   "file_extension": ".py",
   "mimetype": "text/x-python",
   "name": "python",
   "nbconvert_exporter": "python",
   "pygments_lexer": "ipython3",
   "version": "3.11.7"
  }
 },
 "nbformat": 4,
 "nbformat_minor": 5
}

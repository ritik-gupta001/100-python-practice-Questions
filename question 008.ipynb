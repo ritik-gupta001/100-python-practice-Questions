{
 "cells": [
  {
   "cell_type": "code",
   "execution_count": 2,
   "id": "65b4848b-3f92-4137-9d8c-fb7b3b805890",
   "metadata": {},
   "outputs": [],
   "source": [
    "# Write a program to find the euclidean distance between two coordinates."
   ]
  },
  {
   "cell_type": "code",
   "execution_count": 6,
   "id": "69199262-f5d6-41f5-9c6b-03ce717533e2",
   "metadata": {},
   "outputs": [
    {
     "name": "stdin",
     "output_type": "stream",
     "text": [
      "enter the first x cordinate 12\n",
      "enter the first y cordinate 23\n",
      "enter the second x cordinate 45\n",
      "enter the second y cordinate 24\n"
     ]
    },
    {
     "name": "stdout",
     "output_type": "stream",
     "text": [
      "The Euclidean distance between two coordinates are: 33.015148038438355\n"
     ]
    }
   ],
   "source": [
    "import math\n",
    "x1=int(input(\"enter the first x cordinate\"))\n",
    "y1=int(input(\"enter the first y cordinate\"))\n",
    "x2=int(input(\"enter the second x cordinate\"))\n",
    "y2=int(input(\"enter the second y cordinate\"))\n",
    "d=math.sqrt((x2-x1)**2+(y2-y1)**2)\n",
    "print(\"The Euclidean distance between two coordinates are:\",d)"
   ]
  },
  {
   "cell_type": "code",
   "execution_count": null,
   "id": "c5a23cb8-d816-4725-a84d-d86c8782bf44",
   "metadata": {},
   "outputs": [],
   "source": []
  }
 ],
 "metadata": {
  "kernelspec": {
   "display_name": "Python 3 (ipykernel)",
   "language": "python",
   "name": "python3"
  },
  "language_info": {
   "codemirror_mode": {
    "name": "ipython",
    "version": 3
   },
   "file_extension": ".py",
   "mimetype": "text/x-python",
   "name": "python",
   "nbconvert_exporter": "python",
   "pygments_lexer": "ipython3",
   "version": "3.11.7"
  }
 },
 "nbformat": 4,
 "nbformat_minor": 5
}

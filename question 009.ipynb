{
 "cells": [
  {
   "cell_type": "code",
   "execution_count": 1,
   "id": "e895525c-2d3b-4e2c-9328-6ea615c937fa",
   "metadata": {},
   "outputs": [],
   "source": [
    "# Write a program that take a user input of three angles and will find out whether it can form a triangle or not."
   ]
  },
  {
   "cell_type": "code",
   "execution_count": 5,
   "id": "a6f6e243-0d94-4abe-9b31-b12e02165c2a",
   "metadata": {},
   "outputs": [
    {
     "name": "stdin",
     "output_type": "stream",
     "text": [
      "enter the first angle: 12\n",
      "enter the second angle: 12\n",
      "enter the third angle: 67\n"
     ]
    },
    {
     "name": "stdout",
     "output_type": "stream",
     "text": [
      "Can't form Triangle\n"
     ]
    }
   ],
   "source": [
    "angle1=int(input(\"enter the first angle:\"))\n",
    "angle2=int(input(\"enter the second angle:\"))\n",
    "angle3=int(input(\"enter the third angle:\"))\n",
    "sum=angle1+angle2+angle3\n",
    "if sum==180 and angle1 > 0 and angle2 > 0 and angle3 > 0:\n",
    "    print(\"Can form Triangle:\")\n",
    "else:\n",
    "    print(\"Can't form Triangle\")"
   ]
  },
  {
   "cell_type": "code",
   "execution_count": null,
   "id": "58710535-b704-487b-a674-f40917278ab4",
   "metadata": {},
   "outputs": [],
   "source": [
    "#The sum of all three angles must be 180°.\n",
    "#Each angle must be greater than 0° (since a triangle cannot have a zero or negative angle)"
   ]
  }
 ],
 "metadata": {
  "kernelspec": {
   "display_name": "Python 3 (ipykernel)",
   "language": "python",
   "name": "python3"
  },
  "language_info": {
   "codemirror_mode": {
    "name": "ipython",
    "version": 3
   },
   "file_extension": ".py",
   "mimetype": "text/x-python",
   "name": "python",
   "nbconvert_exporter": "python",
   "pygments_lexer": "ipython3",
   "version": "3.11.7"
  }
 },
 "nbformat": 4,
 "nbformat_minor": 5
}

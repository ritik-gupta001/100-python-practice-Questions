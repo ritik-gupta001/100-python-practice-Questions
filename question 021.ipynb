{
 "cells": [
  {
   "cell_type": "code",
   "execution_count": 1,
   "id": "9fe81ec0-1d0f-41d2-9d5f-879557c92d9b",
   "metadata": {},
   "outputs": [],
   "source": [
    "# Write a program that can multiply 2 numbers provided by the user without using the * operator"
   ]
  },
  {
   "cell_type": "code",
   "execution_count": 5,
   "id": "e899d21c-94e7-414f-aad4-6500a3482187",
   "metadata": {},
   "outputs": [
    {
     "name": "stdin",
     "output_type": "stream",
     "text": [
      "Enter first number:  78\n",
      "Enter second number:  999\n"
     ]
    },
    {
     "name": "stdout",
     "output_type": "stream",
     "text": [
      "The product of the numbers is: 77922\n"
     ]
    }
   ],
   "source": [
    "# Taking user input\n",
    "num1 = int(input(\"Enter first number: \"))\n",
    "num2 = int(input(\"Enter second number: \"))\n",
    "\n",
    "result = 0\n",
    "\n",
    "# Handle negative numbers\n",
    "negative = False\n",
    "if num1 < 0 and num2 >= 0:\n",
    "    num1 = -num1\n",
    "    negative = True\n",
    "elif num2 < 0 and num1 >= 0:\n",
    "    num2 = -num2\n",
    "    negative = True\n",
    "elif num1 < 0 and num2 < 0:\n",
    "    num1 = -num1\n",
    "    num2 = -num2\n",
    "\n",
    "# Repeated addition\n",
    "for _ in range(num2):\n",
    "    result += num1\n",
    "\n",
    "# Apply sign if needed\n",
    "if negative:\n",
    "    result = -result\n",
    "\n",
    "print(f\"The product of the numbers is: {result}\")\n"
   ]
  },
  {
   "cell_type": "code",
   "execution_count": null,
   "id": "45cf68b8-0ecf-41f3-9d2d-f4fb080b7985",
   "metadata": {},
   "outputs": [],
   "source": []
  }
 ],
 "metadata": {
  "kernelspec": {
   "display_name": "Python 3 (ipykernel)",
   "language": "python",
   "name": "python3"
  },
  "language_info": {
   "codemirror_mode": {
    "name": "ipython",
    "version": 3
   },
   "file_extension": ".py",
   "mimetype": "text/x-python",
   "name": "python",
   "nbconvert_exporter": "python",
   "pygments_lexer": "ipython3",
   "version": "3.11.7"
  }
 },
 "nbformat": 4,
 "nbformat_minor": 5
}

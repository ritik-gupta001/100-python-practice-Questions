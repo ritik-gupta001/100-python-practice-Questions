{
 "cells": [
  {
   "cell_type": "code",
   "execution_count": 3,
   "id": "c1e67b3a-e4d0-4d8d-b8e5-26b46a9e2748",
   "metadata": {},
   "outputs": [],
   "source": [
    "# User will provide 2 numbers you have to find the by LCM of those 2 numbers\n"
   ]
  },
  {
   "cell_type": "code",
   "execution_count": 6,
   "id": "e33af86c-11a4-4d91-b118-3bb93c79bef9",
   "metadata": {},
   "outputs": [
    {
     "name": "stdin",
     "output_type": "stream",
     "text": [
      "Enter first number:  12\n",
      "Enter second number:  18\n"
     ]
    },
    {
     "name": "stdout",
     "output_type": "stream",
     "text": [
      "LCM of 12 and 18 is: 36\n"
     ]
    }
   ],
   "source": [
    "a = int(input(\"Enter first number: \"))\n",
    "b = int(input(\"Enter second number: \"))\n",
    "def find_hcf(a, b):\n",
    "    while b != 0:\n",
    "        a, b = b, a % b\n",
    "    return a\n",
    "\n",
    "def find_lcm(a, b):\n",
    "    return (a * b) // find_hcf(a, b) # // floor divison\n",
    "lcm = find_lcm(a, b)\n",
    "print(f\"LCM of {a} and {b} is: {lcm}\")\n"
   ]
  },
  {
   "cell_type": "code",
   "execution_count": 2,
   "id": "2c36b18c-192a-4907-863c-9ee28814c541",
   "metadata": {},
   "outputs": [],
   "source": [
    "# python in built method\n"
   ]
  },
  {
   "cell_type": "code",
   "execution_count": 4,
   "id": "456425b1-910b-4066-9b9f-60ee9c4dd8f2",
   "metadata": {},
   "outputs": [
    {
     "name": "stdin",
     "output_type": "stream",
     "text": [
      "Enter first number:  12\n",
      "Enter second number:  18\n"
     ]
    },
    {
     "name": "stdout",
     "output_type": "stream",
     "text": [
      "LCM of 12 and 18 is: 36\n"
     ]
    }
   ],
   "source": [
    "import math\n",
    "\n",
    "a = int(input(\"Enter first number: \"))\n",
    "b = int(input(\"Enter second number: \"))\n",
    "\n",
    "hcf = math.gcd(a, b)\n",
    "lcm = abs(a * b) // hcf\n",
    "print(f\"LCM of {a} and {b} is: {lcm}\")\n"
   ]
  },
  {
   "cell_type": "code",
   "execution_count": null,
   "id": "4f8f6db5-37f8-460d-b3f1-ab9e44edd4cb",
   "metadata": {},
   "outputs": [],
   "source": []
  }
 ],
 "metadata": {
  "kernelspec": {
   "display_name": "Python 3 (ipykernel)",
   "language": "python",
   "name": "python3"
  },
  "language_info": {
   "codemirror_mode": {
    "name": "ipython",
    "version": 3
   },
   "file_extension": ".py",
   "mimetype": "text/x-python",
   "name": "python",
   "nbconvert_exporter": "python",
   "pygments_lexer": "ipython3",
   "version": "3.11.7"
  }
 },
 "nbformat": 4,
 "nbformat_minor": 5
}

{
 "cells": [
  {
   "cell_type": "code",
   "execution_count": 1,
   "id": "a87b3e65-6aa8-42ac-88ce-b6648fddc5fc",
   "metadata": {},
   "outputs": [],
   "source": [
    "# Write a program that will reverse a four digit number.Also it checks whether the reverse is true."
   ]
  },
  {
   "cell_type": "code",
   "execution_count": 7,
   "id": "29abe31e-d3e8-435f-9c0a-014109135302",
   "metadata": {},
   "outputs": [
    {
     "name": "stdin",
     "output_type": "stream",
     "text": [
      "enter your 4 digit no 1234\n"
     ]
    },
    {
     "name": "stdout",
     "output_type": "stream",
     "text": [
      "reversed no is 4321\n",
      "the no is not palindrome\n"
     ]
    }
   ],
   "source": [
    "num =int(input(\"enter your 4 digit no\"))\n",
    "rev=int(str(num)[::-1])\n",
    "print(\"reversed no is\",rev)\n",
    "# check ---> this will show palindrome or not\n",
    "if num == rev:\n",
    "    print(\"the no is palindrome \")\n",
    "else:\n",
    "    print(\"the no is not palindrome\")"
   ]
  },
  {
   "cell_type": "code",
   "execution_count": null,
   "id": "fe0bed64-dcad-43e4-813c-51e015c6b305",
   "metadata": {},
   "outputs": [],
   "source": []
  }
 ],
 "metadata": {
  "kernelspec": {
   "display_name": "Python 3 (ipykernel)",
   "language": "python",
   "name": "python3"
  },
  "language_info": {
   "codemirror_mode": {
    "name": "ipython",
    "version": 3
   },
   "file_extension": ".py",
   "mimetype": "text/x-python",
   "name": "python",
   "nbconvert_exporter": "python",
   "pygments_lexer": "ipython3",
   "version": "3.11.7"
  }
 },
 "nbformat": 4,
 "nbformat_minor": 5
}

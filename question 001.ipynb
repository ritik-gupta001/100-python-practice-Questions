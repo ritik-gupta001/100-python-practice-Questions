{
 "cells": [
  {
   "cell_type": "code",
   "execution_count": 1,
   "id": "1c49a5c6-da46-45f9-a29a-09a25420d64c",
   "metadata": {},
   "outputs": [],
   "source": [
    "# User will input (3ages).Find the oldest one"
   ]
  },
  {
   "cell_type": "code",
   "execution_count": 15,
   "id": "22788a0a-2cf9-4329-a39f-23fb23b023f9",
   "metadata": {},
   "outputs": [
    {
     "name": "stdin",
     "output_type": "stream",
     "text": [
      "Enter your age  45\n",
      "Enter your age  67\n",
      "Enter your age  34\n"
     ]
    },
    {
     "name": "stdout",
     "output_type": "stream",
     "text": [
      "67  is older\n"
     ]
    }
   ],
   "source": [
    "input_1=int(input(\"Enter your age \"))\n",
    "input_2=int(input(\"Enter your age \"))\n",
    "input_3=int(input(\"Enter your age \"))\n",
    "if input_1 > input_2 and input_1 > input_3:\n",
    "    print(input_1 ,\" is older\")\n",
    "elif input_1< input_3 and input_3> input_2:\n",
    "    print(input_3 ,\" is older\")\n",
    "else:\n",
    "    print(input_2 ,\" is older\")\n",
    "    "
   ]
  },
  {
   "cell_type": "code",
   "execution_count": null,
   "id": "4ebcf0b4-9fcd-42a2-ad61-08f942f75974",
   "metadata": {},
   "outputs": [],
   "source": []
  }
 ],
 "metadata": {
  "kernelspec": {
   "display_name": "Python 3 (ipykernel)",
   "language": "python",
   "name": "python3"
  },
  "language_info": {
   "codemirror_mode": {
    "name": "ipython",
    "version": 3
   },
   "file_extension": ".py",
   "mimetype": "text/x-python",
   "name": "python",
   "nbconvert_exporter": "python",
   "pygments_lexer": "ipython3",
   "version": "3.11.7"
  }
 },
 "nbformat": 4,
 "nbformat_minor": 5
}

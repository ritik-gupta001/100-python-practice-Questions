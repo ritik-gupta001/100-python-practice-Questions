{
 "cells": [
  {
   "cell_type": "code",
   "execution_count": 1,
   "id": "617759ca-94d6-4728-9aa2-fdab419146c0",
   "metadata": {},
   "outputs": [],
   "source": [
    "# Given two rectangles, find if the given two rectangles overlap or not. A rectangle is denoted by providing the x and y coordinates of two points:\n",
    "#the left top corner and the right bottom corner of the rectangle. \n",
    "#Two rectangles sharing a side are considered overlapping. \n",
    "#(L1 and R1 are the extreme points of the first rectangle and L2 and R2 are the extreme points of the second rectangle).\n",
    "\n",
    "#Note: It may be assumed that the rectangles are parallel to the coordinate axis.\n",
    "\n",
    "#Input: L1=(0,10), R1=(10,0), L2=(5,5), R2=(15,0)\n",
    "#Output: 1\n",
    "#Explanation: The rectangles overlap.\n",
    "\n",
    "#Input: L1=(0,2), R1=(1,1), L2=(-2,0), R2=(0,-3)\n",
    "#Output: 0\n",
    "#Explanation: The rectangles do not overlap.\n",
    "\n",
    "#Constraints: -109<=x-coordinate,y-coordinate<=109\n"
   ]
  },
  {
   "cell_type": "code",
   "execution_count": 4,
   "id": "4e7975c4-c8da-4c3e-8ef0-0914e71bf2d6",
   "metadata": {},
   "outputs": [
    {
     "name": "stdout",
     "output_type": "stream",
     "text": [
      "1\n",
      "0\n"
     ]
    }
   ],
   "source": [
    "def is_overlapping(L1, R1, L2, R2):\n",
    "    # L1, R1, L2, R2 are tuples like (x, y)\n",
    "    \n",
    "    # If one rectangle is to the left of the other\n",
    "    if R1[0] < L2[0] or R2[0] < L1[0]:\n",
    "        return 0\n",
    "\n",
    "    # If one rectangle is above the other\n",
    "    if L1[1] < R2[1] or L2[1] < R1[1]:\n",
    "        return 0\n",
    "\n",
    "    # Otherwise, they overlap\n",
    "    return 1\n",
    "\n",
    "# Test cases\n",
    "print(is_overlapping((0,10), (10,0), (5,5), (15,0))) \n",
    "print(is_overlapping((0,2), (1,1), (-2,0), (0,-3)))\n",
    "\n"
   ]
  },
  {
   "cell_type": "code",
   "execution_count": null,
   "id": "9526524f-fc6e-4afa-a9c1-aa1e772aaee8",
   "metadata": {},
   "outputs": [],
   "source": []
  }
 ],
 "metadata": {
  "kernelspec": {
   "display_name": "Python 3 (ipykernel)",
   "language": "python",
   "name": "python3"
  },
  "language_info": {
   "codemirror_mode": {
    "name": "ipython",
    "version": 3
   },
   "file_extension": ".py",
   "mimetype": "text/x-python",
   "name": "python",
   "nbconvert_exporter": "python",
   "pygments_lexer": "ipython3",
   "version": "3.11.7"
  }
 },
 "nbformat": 4,
 "nbformat_minor": 5
}

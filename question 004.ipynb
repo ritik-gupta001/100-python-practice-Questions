{
 "cells": [
  {
   "cell_type": "code",
   "execution_count": 1,
   "id": "8b8d3fac-98cf-4ff9-8224-e3d494ed6522",
   "metadata": {},
   "outputs": [],
   "source": [
    "# Write a program that will give you the sum of 3 digits"
   ]
  },
  {
   "cell_type": "code",
   "execution_count": 5,
   "id": "b8ebf906-25b0-4ded-aeb6-a17227e5a38c",
   "metadata": {},
   "outputs": [
    {
     "name": "stdin",
     "output_type": "stream",
     "text": [
      "enter first no 45\n",
      "enter second no 67\n",
      "enter third no 12\n"
     ]
    },
    {
     "name": "stdout",
     "output_type": "stream",
     "text": [
      "the sum is  124\n"
     ]
    }
   ],
   "source": [
    "a= int(input(\"enter first no\" ))\n",
    "b= int(input(\"enter second no\" )) \n",
    "c= int(input(\"enter third no\" ))\n",
    "total=a+b+c\n",
    "print(\"the sum is \",total)"
   ]
  },
  {
   "cell_type": "code",
   "execution_count": 6,
   "id": "0630e812-b5fa-4a3c-82c3-2a9b829f2396",
   "metadata": {},
   "outputs": [],
   "source": [
    "# may be this question is like ki we have given 3 digit no as input and return the sum of thr digit\n"
   ]
  },
  {
   "cell_type": "code",
   "execution_count": 8,
   "id": "5063005f-d4dd-4751-babb-b6b69c829790",
   "metadata": {},
   "outputs": [
    {
     "name": "stdin",
     "output_type": "stream",
     "text": [
      "enter a 3 digit no  343\n"
     ]
    },
    {
     "name": "stdout",
     "output_type": "stream",
     "text": [
      "the sum of 3 digit no is 10\n"
     ]
    }
   ],
   "source": [
    "num=int(input(\"enter a 3 digit no \"))\n",
    "# digit extraction\n",
    "a=num//100 # first digit \n",
    "b=(num//10)%10 #second digit\n",
    "c=num%10\n",
    "total=a+b+c\n",
    "print(\"the sum of 3 digit no is\",total)\n"
   ]
  },
  {
   "cell_type": "code",
   "execution_count": null,
   "id": "c9c616cf-d176-482b-84bf-7bb757af033a",
   "metadata": {},
   "outputs": [],
   "source": []
  }
 ],
 "metadata": {
  "kernelspec": {
   "display_name": "Python 3 (ipykernel)",
   "language": "python",
   "name": "python3"
  },
  "language_info": {
   "codemirror_mode": {
    "name": "ipython",
    "version": 3
   },
   "file_extension": ".py",
   "mimetype": "text/x-python",
   "name": "python",
   "nbconvert_exporter": "python",
   "pygments_lexer": "ipython3",
   "version": "3.11.7"
  }
 },
 "nbformat": 4,
 "nbformat_minor": 5
}

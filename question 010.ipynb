{
 "cells": [
  {
   "cell_type": "code",
   "execution_count": 1,
   "id": "6e541d74-94e3-4cb3-9810-d39846587bd9",
   "metadata": {},
   "outputs": [],
   "source": [
    "# Write a program that will take user input of cost price and selling price and determines whether its a loss or a profit\n"
   ]
  },
  {
   "cell_type": "code",
   "execution_count": 8,
   "id": "f92c5280-75e4-4a20-b5a8-29192cc1c521",
   "metadata": {},
   "outputs": [
    {
     "name": "stdin",
     "output_type": "stream",
     "text": [
      "enter the cost price 200\n",
      "enter the selling price 200\n"
     ]
    },
    {
     "name": "stdout",
     "output_type": "stream",
     "text": [
      "no profit no loss\n"
     ]
    }
   ],
   "source": [
    "cp=int(input(\"enter the cost price\"))\n",
    "sp=int(input(\"enter the selling price\"))\n",
    "if sp>cp:\n",
    "  print(\"Profit of RS:\",sp-cp)\n",
    "elif cp>sp:\n",
    "  print(\"loss of Rs:\",cp-sp) \n",
    "else:\n",
    "    print(\"no profit no loss\")"
   ]
  },
  {
   "cell_type": "code",
   "execution_count": null,
   "id": "393113b3-ab35-4603-af86-b79a95225b38",
   "metadata": {},
   "outputs": [],
   "source": []
  }
 ],
 "metadata": {
  "kernelspec": {
   "display_name": "Python 3 (ipykernel)",
   "language": "python",
   "name": "python3"
  },
  "language_info": {
   "codemirror_mode": {
    "name": "ipython",
    "version": 3
   },
   "file_extension": ".py",
   "mimetype": "text/x-python",
   "name": "python",
   "nbconvert_exporter": "python",
   "pygments_lexer": "ipython3",
   "version": "3.11.7"
  }
 },
 "nbformat": 4,
 "nbformat_minor": 5
}

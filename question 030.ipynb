{
 "cells": [
  {
   "cell_type": "code",
   "execution_count": 1,
   "id": "0715225b-8160-41fa-ade2-0a9af2904d86",
   "metadata": {},
   "outputs": [],
   "source": [
    "# The current population of a town is 10000. The population of the town is increasing at the rate of 10% per year.\n",
    "# You have to write a program to find out the population at the end of each of the last 10 years.\n",
    "#For eg current population is 10000 so the output should be like this:\n",
    "#10th year - 10000\n",
    "#9th year - 9000\n",
    "#8th year - 8100 and so on\n"
   ]
  },
  {
   "cell_type": "code",
   "execution_count": 1,
   "id": "eb86bb10-95c4-4f2e-9af9-67efb88b9777",
   "metadata": {},
   "outputs": [
    {
     "name": "stdout",
     "output_type": "stream",
     "text": [
      "10th year - 10000\n",
      "9th year - 9091\n",
      "8th year - 8264\n",
      "7th year - 7513\n",
      "6th year - 6830\n",
      "5th year - 6209\n",
      "4th year - 5645\n",
      "3th year - 5132\n",
      "2th year - 4665\n",
      "1th year - 4241\n"
     ]
    }
   ],
   "source": [
    "current_population = 10000\n",
    "rate = 10 / 100  # 10% growth rate\n",
    "\n",
    "population = current_population\n",
    "for year in range(10, 0, -1):  # from 10 down to 1\n",
    "    print(f\"{year}th year - {round(population)}\")\n",
    "    population = population / (1 + rate)  # Go one year back\n"
   ]
  },
  {
   "cell_type": "code",
   "execution_count": null,
   "id": "87bfbd43-3a08-491f-b23a-3ea9ad719434",
   "metadata": {},
   "outputs": [],
   "source": []
  }
 ],
 "metadata": {
  "kernelspec": {
   "display_name": "Python 3 (ipykernel)",
   "language": "python",
   "name": "python3"
  },
  "language_info": {
   "codemirror_mode": {
    "name": "ipython",
    "version": 3
   },
   "file_extension": ".py",
   "mimetype": "text/x-python",
   "name": "python",
   "nbconvert_exporter": "python",
   "pygments_lexer": "ipython3",
   "version": "3.11.7"
  }
 },
 "nbformat": 4,
 "nbformat_minor": 5
}

{
 "cells": [
  {
   "cell_type": "code",
   "execution_count": 2,
   "id": "224da6b7-4625-4e43-bb7d-ab35eb69bb96",
   "metadata": {},
   "outputs": [],
   "source": [
    "# Write a menu driven program - 1.cm to ft  2.kl to miles  3.usd to inr  4.exit"
   ]
  },
  {
   "cell_type": "code",
   "execution_count": 5,
   "id": "12a4732f-d60d-4ac4-9fc8-ab3c994611af",
   "metadata": {},
   "outputs": [
    {
     "name": "stdout",
     "output_type": "stream",
     "text": [
      "\n",
      "--- Conversion Menu ---\n",
      "1. cm to ft\n",
      "2. km to miles\n",
      "3. USD to INR\n",
      "4. Exit\n"
     ]
    },
    {
     "name": "stdin",
     "output_type": "stream",
     "text": [
      "Enter your choice (1-4):  4\n"
     ]
    },
    {
     "name": "stdout",
     "output_type": "stream",
     "text": [
      "Exiting program...\n"
     ]
    }
   ],
   "source": [
    "while True:\n",
    "    # Display menu\n",
    "    print(\"\\n--- Conversion Menu ---\")\n",
    "    print(\"1. cm to ft\")\n",
    "    print(\"2. km to miles\")\n",
    "    print(\"3. USD to INR\")\n",
    "    print(\"4. Exit\")\n",
    "\n",
    "    choice = int(input(\"Enter your choice (1-4): \"))\n",
    "\n",
    "    if choice == 1:\n",
    "        # cm to ft\n",
    "        cm = float(input(\"Enter length in cm: \"))\n",
    "        ft = cm / 30.481\n",
    "        print(f\"{cm} cm = {ft:.2f} ft\")\n",
    "\n",
    "    elif choice == 2:\n",
    "        # km to miles\n",
    "        km = float(input(\"Enter distance in km: \"))\n",
    "        miles = km * 0.621371\n",
    "        print(f\"{km} km = {miles:.2f} miles\")\n",
    "\n",
    "    elif choice == 3:\n",
    "        # USD to INR\n",
    "        usd = float(input(\"Enter amount in USD: \"))\n",
    "        inr = usd * 83  # assuming 1 USD = 83 INR\n",
    "        print(f\"{usd} USD = {inr:.2f} INR\")\n",
    "\n",
    "    elif choice == 4:\n",
    "        # Exit\n",
    "        print(\"Exiting program...\")\n",
    "        break\n",
    "\n",
    "    else:\n",
    "        print(\"Invalid choice! Please enter a number between 1 and 4.\")\n"
   ]
  },
  {
   "cell_type": "code",
   "execution_count": null,
   "id": "5d6ac2dd-4093-4152-a9bb-741f84bb625a",
   "metadata": {},
   "outputs": [],
   "source": []
  }
 ],
 "metadata": {
  "kernelspec": {
   "display_name": "Python 3 (ipykernel)",
   "language": "python",
   "name": "python3"
  },
  "language_info": {
   "codemirror_mode": {
    "name": "ipython",
    "version": 3
   },
   "file_extension": ".py",
   "mimetype": "text/x-python",
   "name": "python",
   "nbconvert_exporter": "python",
   "pygments_lexer": "ipython3",
   "version": "3.11.7"
  }
 },
 "nbformat": 4,
 "nbformat_minor": 5
}
